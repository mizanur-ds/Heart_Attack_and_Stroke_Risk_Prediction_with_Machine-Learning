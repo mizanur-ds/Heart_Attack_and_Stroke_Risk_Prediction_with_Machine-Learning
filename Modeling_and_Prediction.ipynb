{
 "cells": [
  {
   "cell_type": "code",
   "execution_count": 7,
   "id": "6a7cd1bd",
   "metadata": {},
   "outputs": [],
   "source": [
    "import numpy as np\n",
    "import pandas as pd\n",
    "import matplotlib.pyplot as plt\n",
    "from sklearn.model_selection import train_test_split\n",
    "from sklearn.linear_model import LogisticRegression\n",
    "from sklearn.tree import DecisionTreeClassifier\n",
    "from sklearn.ensemble import RandomForestClassifier\n",
    "from sklearn.preprocessing import StandardScaler\n",
    "from sklearn.metrics import classification_report, accuracy_score\n",
    "from imblearn import under_sampling, over_sampling\n",
    "import seaborn as sns\n",
    "from sklearn.metrics import confusion_matrix"
   ]
  },
  {
   "cell_type": "code",
   "execution_count": 2,
   "id": "abed634b",
   "metadata": {},
   "outputs": [],
   "source": [
    "data = pd.read_csv('final_df.csv')"
   ]
  },
  {
   "cell_type": "code",
   "execution_count": 3,
   "id": "9a80070b",
   "metadata": {},
   "outputs": [
    {
     "data": {
      "text/html": [
       "<div>\n",
       "<style scoped>\n",
       "    .dataframe tbody tr th:only-of-type {\n",
       "        vertical-align: middle;\n",
       "    }\n",
       "\n",
       "    .dataframe tbody tr th {\n",
       "        vertical-align: top;\n",
       "    }\n",
       "\n",
       "    .dataframe thead th {\n",
       "        text-align: right;\n",
       "    }\n",
       "</style>\n",
       "<table border=\"1\" class=\"dataframe\">\n",
       "  <thead>\n",
       "    <tr style=\"text-align: right;\">\n",
       "      <th></th>\n",
       "      <th>gender</th>\n",
       "      <th>age</th>\n",
       "      <th>body_mass_index</th>\n",
       "      <th>smoker</th>\n",
       "      <th>systolic_blood_pressure</th>\n",
       "      <th>hypertension_treated</th>\n",
       "      <th>family_history_of_cardiovascular_disease</th>\n",
       "      <th>atrial_fibrillation</th>\n",
       "      <th>chronic_kidney_disease</th>\n",
       "      <th>rheumatoid_arthritis</th>\n",
       "      <th>diabetes</th>\n",
       "      <th>chronic_obstructive_pulmonary_disorder</th>\n",
       "      <th>time_to_event_or_censoring</th>\n",
       "      <th>heart_attack_or_stroke_occurred</th>\n",
       "    </tr>\n",
       "  </thead>\n",
       "  <tbody>\n",
       "    <tr>\n",
       "      <th>0</th>\n",
       "      <td>0.0</td>\n",
       "      <td>54.0</td>\n",
       "      <td>25.0</td>\n",
       "      <td>0</td>\n",
       "      <td>161.0</td>\n",
       "      <td>0.0</td>\n",
       "      <td>1</td>\n",
       "      <td>0</td>\n",
       "      <td>0.0</td>\n",
       "      <td>0</td>\n",
       "      <td>0</td>\n",
       "      <td>0</td>\n",
       "      <td>10.0</td>\n",
       "      <td>0.0</td>\n",
       "    </tr>\n",
       "    <tr>\n",
       "      <th>1</th>\n",
       "      <td>1.0</td>\n",
       "      <td>31.0</td>\n",
       "      <td>28.2</td>\n",
       "      <td>0</td>\n",
       "      <td>121.0</td>\n",
       "      <td>0.0</td>\n",
       "      <td>0</td>\n",
       "      <td>0</td>\n",
       "      <td>0.0</td>\n",
       "      <td>0</td>\n",
       "      <td>0</td>\n",
       "      <td>0</td>\n",
       "      <td>10.0</td>\n",
       "      <td>0.0</td>\n",
       "    </tr>\n",
       "    <tr>\n",
       "      <th>2</th>\n",
       "      <td>1.0</td>\n",
       "      <td>50.0</td>\n",
       "      <td>31.3</td>\n",
       "      <td>0</td>\n",
       "      <td>130.0</td>\n",
       "      <td>0.0</td>\n",
       "      <td>0</td>\n",
       "      <td>0</td>\n",
       "      <td>0.0</td>\n",
       "      <td>0</td>\n",
       "      <td>0</td>\n",
       "      <td>0</td>\n",
       "      <td>10.0</td>\n",
       "      <td>0.0</td>\n",
       "    </tr>\n",
       "    <tr>\n",
       "      <th>3</th>\n",
       "      <td>1.0</td>\n",
       "      <td>61.0</td>\n",
       "      <td>30.0</td>\n",
       "      <td>0</td>\n",
       "      <td>165.0</td>\n",
       "      <td>0.0</td>\n",
       "      <td>0</td>\n",
       "      <td>0</td>\n",
       "      <td>0.0</td>\n",
       "      <td>0</td>\n",
       "      <td>0</td>\n",
       "      <td>0</td>\n",
       "      <td>6.0</td>\n",
       "      <td>1.0</td>\n",
       "    </tr>\n",
       "    <tr>\n",
       "      <th>4</th>\n",
       "      <td>0.0</td>\n",
       "      <td>67.0</td>\n",
       "      <td>32.6</td>\n",
       "      <td>0</td>\n",
       "      <td>166.0</td>\n",
       "      <td>0.0</td>\n",
       "      <td>0</td>\n",
       "      <td>0</td>\n",
       "      <td>0.0</td>\n",
       "      <td>0</td>\n",
       "      <td>0</td>\n",
       "      <td>0</td>\n",
       "      <td>10.0</td>\n",
       "      <td>0.0</td>\n",
       "    </tr>\n",
       "  </tbody>\n",
       "</table>\n",
       "</div>"
      ],
      "text/plain": [
       "   gender   age  body_mass_index  smoker  systolic_blood_pressure  \\\n",
       "0     0.0  54.0             25.0       0                    161.0   \n",
       "1     1.0  31.0             28.2       0                    121.0   \n",
       "2     1.0  50.0             31.3       0                    130.0   \n",
       "3     1.0  61.0             30.0       0                    165.0   \n",
       "4     0.0  67.0             32.6       0                    166.0   \n",
       "\n",
       "   hypertension_treated  family_history_of_cardiovascular_disease  \\\n",
       "0                   0.0                                         1   \n",
       "1                   0.0                                         0   \n",
       "2                   0.0                                         0   \n",
       "3                   0.0                                         0   \n",
       "4                   0.0                                         0   \n",
       "\n",
       "   atrial_fibrillation  chronic_kidney_disease  rheumatoid_arthritis  \\\n",
       "0                    0                     0.0                     0   \n",
       "1                    0                     0.0                     0   \n",
       "2                    0                     0.0                     0   \n",
       "3                    0                     0.0                     0   \n",
       "4                    0                     0.0                     0   \n",
       "\n",
       "   diabetes  chronic_obstructive_pulmonary_disorder  \\\n",
       "0         0                                       0   \n",
       "1         0                                       0   \n",
       "2         0                                       0   \n",
       "3         0                                       0   \n",
       "4         0                                       0   \n",
       "\n",
       "   time_to_event_or_censoring  heart_attack_or_stroke_occurred  \n",
       "0                        10.0                              0.0  \n",
       "1                        10.0                              0.0  \n",
       "2                        10.0                              0.0  \n",
       "3                         6.0                              1.0  \n",
       "4                        10.0                              0.0  "
      ]
     },
     "execution_count": 3,
     "metadata": {},
     "output_type": "execute_result"
    }
   ],
   "source": [
    "data.head()"
   ]
  },
  {
   "cell_type": "markdown",
   "id": "c57a9633",
   "metadata": {},
   "source": [
    "Female = 0.0\n",
    "Male = 1.0"
   ]
  },
  {
   "cell_type": "code",
   "execution_count": 4,
   "id": "27dee735",
   "metadata": {},
   "outputs": [
    {
     "name": "stdout",
     "output_type": "stream",
     "text": [
      "<class 'pandas.core.frame.DataFrame'>\n",
      "RangeIndex: 100000 entries, 0 to 99999\n",
      "Data columns (total 14 columns):\n",
      " #   Column                                    Non-Null Count   Dtype  \n",
      "---  ------                                    --------------   -----  \n",
      " 0   gender                                    100000 non-null  float64\n",
      " 1   age                                       100000 non-null  float64\n",
      " 2   body_mass_index                           100000 non-null  float64\n",
      " 3   smoker                                    100000 non-null  int64  \n",
      " 4   systolic_blood_pressure                   100000 non-null  float64\n",
      " 5   hypertension_treated                      100000 non-null  float64\n",
      " 6   family_history_of_cardiovascular_disease  100000 non-null  int64  \n",
      " 7   atrial_fibrillation                       100000 non-null  int64  \n",
      " 8   chronic_kidney_disease                    100000 non-null  float64\n",
      " 9   rheumatoid_arthritis                      100000 non-null  int64  \n",
      " 10  diabetes                                  100000 non-null  int64  \n",
      " 11  chronic_obstructive_pulmonary_disorder    100000 non-null  int64  \n",
      " 12  time_to_event_or_censoring                100000 non-null  float64\n",
      " 13  heart_attack_or_stroke_occurred           100000 non-null  float64\n",
      "dtypes: float64(8), int64(6)\n",
      "memory usage: 10.7 MB\n"
     ]
    }
   ],
   "source": [
    "data.info()"
   ]
  },
  {
   "cell_type": "code",
   "execution_count": 5,
   "id": "cdba7f27",
   "metadata": {},
   "outputs": [],
   "source": [
    "# List of columns to exclude\n",
    "exclude_columns = ['age', 'body_mass_index']\n",
    "\n",
    "# Identify float columns to convert (excluding 'age' and 'body_mass_index')\n",
    "float_cols_to_convert = [col for col in data.select_dtypes(include='float64').columns \n",
    "                         if col not in exclude_columns]\n",
    "\n",
    "# Convert those columns to integers\n",
    "data[float_cols_to_convert] = data[float_cols_to_convert].astype(int)\n"
   ]
  },
  {
   "cell_type": "code",
   "execution_count": 6,
   "id": "17255d8f",
   "metadata": {},
   "outputs": [
    {
     "name": "stdout",
     "output_type": "stream",
     "text": [
      "<class 'pandas.core.frame.DataFrame'>\n",
      "RangeIndex: 100000 entries, 0 to 99999\n",
      "Data columns (total 14 columns):\n",
      " #   Column                                    Non-Null Count   Dtype  \n",
      "---  ------                                    --------------   -----  \n",
      " 0   gender                                    100000 non-null  int32  \n",
      " 1   age                                       100000 non-null  float64\n",
      " 2   body_mass_index                           100000 non-null  float64\n",
      " 3   smoker                                    100000 non-null  int64  \n",
      " 4   systolic_blood_pressure                   100000 non-null  int32  \n",
      " 5   hypertension_treated                      100000 non-null  int32  \n",
      " 6   family_history_of_cardiovascular_disease  100000 non-null  int64  \n",
      " 7   atrial_fibrillation                       100000 non-null  int64  \n",
      " 8   chronic_kidney_disease                    100000 non-null  int32  \n",
      " 9   rheumatoid_arthritis                      100000 non-null  int64  \n",
      " 10  diabetes                                  100000 non-null  int64  \n",
      " 11  chronic_obstructive_pulmonary_disorder    100000 non-null  int64  \n",
      " 12  time_to_event_or_censoring                100000 non-null  int32  \n",
      " 13  heart_attack_or_stroke_occurred           100000 non-null  int32  \n",
      "dtypes: float64(2), int32(6), int64(6)\n",
      "memory usage: 8.4 MB\n"
     ]
    }
   ],
   "source": [
    "data.info()"
   ]
  },
  {
   "cell_type": "markdown",
   "id": "d9ef6898",
   "metadata": {},
   "source": [
    "##### Scaling"
   ]
  },
  {
   "cell_type": "code",
   "execution_count": 8,
   "id": "a1712fd6",
   "metadata": {},
   "outputs": [],
   "source": [
    "scaler  = StandardScaler()\n",
    "features = ['age','body_mass_index','systolic_blood_pressure','time_to_event_or_censoring']\n",
    "scaled_data  = data[features]\n",
    "scaled_data  = scaler.fit_transform(scaled_data)"
   ]
  },
  {
   "cell_type": "code",
   "execution_count": 10,
   "id": "683fef0e",
   "metadata": {},
   "outputs": [],
   "source": [
    "data[features] = scaled_data"
   ]
  },
  {
   "cell_type": "code",
   "execution_count": 11,
   "id": "03de17ea",
   "metadata": {},
   "outputs": [
    {
     "data": {
      "text/html": [
       "<div>\n",
       "<style scoped>\n",
       "    .dataframe tbody tr th:only-of-type {\n",
       "        vertical-align: middle;\n",
       "    }\n",
       "\n",
       "    .dataframe tbody tr th {\n",
       "        vertical-align: top;\n",
       "    }\n",
       "\n",
       "    .dataframe thead th {\n",
       "        text-align: right;\n",
       "    }\n",
       "</style>\n",
       "<table border=\"1\" class=\"dataframe\">\n",
       "  <thead>\n",
       "    <tr style=\"text-align: right;\">\n",
       "      <th></th>\n",
       "      <th>gender</th>\n",
       "      <th>age</th>\n",
       "      <th>body_mass_index</th>\n",
       "      <th>smoker</th>\n",
       "      <th>systolic_blood_pressure</th>\n",
       "      <th>hypertension_treated</th>\n",
       "      <th>family_history_of_cardiovascular_disease</th>\n",
       "      <th>atrial_fibrillation</th>\n",
       "      <th>chronic_kidney_disease</th>\n",
       "      <th>rheumatoid_arthritis</th>\n",
       "      <th>diabetes</th>\n",
       "      <th>chronic_obstructive_pulmonary_disorder</th>\n",
       "      <th>time_to_event_or_censoring</th>\n",
       "      <th>heart_attack_or_stroke_occurred</th>\n",
       "    </tr>\n",
       "  </thead>\n",
       "  <tbody>\n",
       "    <tr>\n",
       "      <th>0</th>\n",
       "      <td>0</td>\n",
       "      <td>0.419189</td>\n",
       "      <td>-0.493092</td>\n",
       "      <td>0</td>\n",
       "      <td>1.833889</td>\n",
       "      <td>0</td>\n",
       "      <td>1</td>\n",
       "      <td>0</td>\n",
       "      <td>0</td>\n",
       "      <td>0</td>\n",
       "      <td>0</td>\n",
       "      <td>0</td>\n",
       "      <td>0.229658</td>\n",
       "      <td>0</td>\n",
       "    </tr>\n",
       "    <tr>\n",
       "      <th>1</th>\n",
       "      <td>1</td>\n",
       "      <td>-0.936875</td>\n",
       "      <td>0.304701</td>\n",
       "      <td>0</td>\n",
       "      <td>-0.521721</td>\n",
       "      <td>0</td>\n",
       "      <td>0</td>\n",
       "      <td>0</td>\n",
       "      <td>0</td>\n",
       "      <td>0</td>\n",
       "      <td>0</td>\n",
       "      <td>0</td>\n",
       "      <td>0.229658</td>\n",
       "      <td>0</td>\n",
       "    </tr>\n",
       "    <tr>\n",
       "      <th>2</th>\n",
       "      <td>1</td>\n",
       "      <td>0.183352</td>\n",
       "      <td>1.077562</td>\n",
       "      <td>0</td>\n",
       "      <td>0.008291</td>\n",
       "      <td>0</td>\n",
       "      <td>0</td>\n",
       "      <td>0</td>\n",
       "      <td>0</td>\n",
       "      <td>0</td>\n",
       "      <td>0</td>\n",
       "      <td>0</td>\n",
       "      <td>0.229658</td>\n",
       "      <td>0</td>\n",
       "    </tr>\n",
       "    <tr>\n",
       "      <th>3</th>\n",
       "      <td>1</td>\n",
       "      <td>0.831904</td>\n",
       "      <td>0.753459</td>\n",
       "      <td>0</td>\n",
       "      <td>2.069450</td>\n",
       "      <td>0</td>\n",
       "      <td>0</td>\n",
       "      <td>0</td>\n",
       "      <td>0</td>\n",
       "      <td>0</td>\n",
       "      <td>0</td>\n",
       "      <td>0</td>\n",
       "      <td>-2.612112</td>\n",
       "      <td>1</td>\n",
       "    </tr>\n",
       "    <tr>\n",
       "      <th>4</th>\n",
       "      <td>0</td>\n",
       "      <td>1.185660</td>\n",
       "      <td>1.401665</td>\n",
       "      <td>0</td>\n",
       "      <td>2.128340</td>\n",
       "      <td>0</td>\n",
       "      <td>0</td>\n",
       "      <td>0</td>\n",
       "      <td>0</td>\n",
       "      <td>0</td>\n",
       "      <td>0</td>\n",
       "      <td>0</td>\n",
       "      <td>0.229658</td>\n",
       "      <td>0</td>\n",
       "    </tr>\n",
       "    <tr>\n",
       "      <th>...</th>\n",
       "      <td>...</td>\n",
       "      <td>...</td>\n",
       "      <td>...</td>\n",
       "      <td>...</td>\n",
       "      <td>...</td>\n",
       "      <td>...</td>\n",
       "      <td>...</td>\n",
       "      <td>...</td>\n",
       "      <td>...</td>\n",
       "      <td>...</td>\n",
       "      <td>...</td>\n",
       "      <td>...</td>\n",
       "      <td>...</td>\n",
       "      <td>...</td>\n",
       "    </tr>\n",
       "    <tr>\n",
       "      <th>99995</th>\n",
       "      <td>1</td>\n",
       "      <td>-0.229364</td>\n",
       "      <td>0.578942</td>\n",
       "      <td>0</td>\n",
       "      <td>-0.227270</td>\n",
       "      <td>1</td>\n",
       "      <td>0</td>\n",
       "      <td>0</td>\n",
       "      <td>0</td>\n",
       "      <td>0</td>\n",
       "      <td>0</td>\n",
       "      <td>0</td>\n",
       "      <td>0.229658</td>\n",
       "      <td>0</td>\n",
       "    </tr>\n",
       "    <tr>\n",
       "      <th>99996</th>\n",
       "      <td>1</td>\n",
       "      <td>-1.408550</td>\n",
       "      <td>-2.188401</td>\n",
       "      <td>0</td>\n",
       "      <td>-0.933953</td>\n",
       "      <td>0</td>\n",
       "      <td>0</td>\n",
       "      <td>0</td>\n",
       "      <td>0</td>\n",
       "      <td>0</td>\n",
       "      <td>0</td>\n",
       "      <td>0</td>\n",
       "      <td>0.229658</td>\n",
       "      <td>0</td>\n",
       "    </tr>\n",
       "    <tr>\n",
       "      <th>99997</th>\n",
       "      <td>0</td>\n",
       "      <td>-1.467509</td>\n",
       "      <td>-1.041574</td>\n",
       "      <td>0</td>\n",
       "      <td>0.832755</td>\n",
       "      <td>0</td>\n",
       "      <td>0</td>\n",
       "      <td>0</td>\n",
       "      <td>0</td>\n",
       "      <td>0</td>\n",
       "      <td>0</td>\n",
       "      <td>0</td>\n",
       "      <td>0.229658</td>\n",
       "      <td>0</td>\n",
       "    </tr>\n",
       "    <tr>\n",
       "      <th>99998</th>\n",
       "      <td>0</td>\n",
       "      <td>0.831904</td>\n",
       "      <td>0.484204</td>\n",
       "      <td>0</td>\n",
       "      <td>1.833889</td>\n",
       "      <td>0</td>\n",
       "      <td>0</td>\n",
       "      <td>0</td>\n",
       "      <td>0</td>\n",
       "      <td>0</td>\n",
       "      <td>0</td>\n",
       "      <td>0</td>\n",
       "      <td>0.229658</td>\n",
       "      <td>0</td>\n",
       "    </tr>\n",
       "    <tr>\n",
       "      <th>99999</th>\n",
       "      <td>0</td>\n",
       "      <td>-0.229364</td>\n",
       "      <td>0.110239</td>\n",
       "      <td>0</td>\n",
       "      <td>1.657218</td>\n",
       "      <td>0</td>\n",
       "      <td>0</td>\n",
       "      <td>0</td>\n",
       "      <td>0</td>\n",
       "      <td>0</td>\n",
       "      <td>0</td>\n",
       "      <td>0</td>\n",
       "      <td>0.229658</td>\n",
       "      <td>0</td>\n",
       "    </tr>\n",
       "  </tbody>\n",
       "</table>\n",
       "<p>100000 rows × 14 columns</p>\n",
       "</div>"
      ],
      "text/plain": [
       "       gender       age  body_mass_index  smoker  systolic_blood_pressure  \\\n",
       "0           0  0.419189        -0.493092       0                 1.833889   \n",
       "1           1 -0.936875         0.304701       0                -0.521721   \n",
       "2           1  0.183352         1.077562       0                 0.008291   \n",
       "3           1  0.831904         0.753459       0                 2.069450   \n",
       "4           0  1.185660         1.401665       0                 2.128340   \n",
       "...       ...       ...              ...     ...                      ...   \n",
       "99995       1 -0.229364         0.578942       0                -0.227270   \n",
       "99996       1 -1.408550        -2.188401       0                -0.933953   \n",
       "99997       0 -1.467509        -1.041574       0                 0.832755   \n",
       "99998       0  0.831904         0.484204       0                 1.833889   \n",
       "99999       0 -0.229364         0.110239       0                 1.657218   \n",
       "\n",
       "       hypertension_treated  family_history_of_cardiovascular_disease  \\\n",
       "0                         0                                         1   \n",
       "1                         0                                         0   \n",
       "2                         0                                         0   \n",
       "3                         0                                         0   \n",
       "4                         0                                         0   \n",
       "...                     ...                                       ...   \n",
       "99995                     1                                         0   \n",
       "99996                     0                                         0   \n",
       "99997                     0                                         0   \n",
       "99998                     0                                         0   \n",
       "99999                     0                                         0   \n",
       "\n",
       "       atrial_fibrillation  chronic_kidney_disease  rheumatoid_arthritis  \\\n",
       "0                        0                       0                     0   \n",
       "1                        0                       0                     0   \n",
       "2                        0                       0                     0   \n",
       "3                        0                       0                     0   \n",
       "4                        0                       0                     0   \n",
       "...                    ...                     ...                   ...   \n",
       "99995                    0                       0                     0   \n",
       "99996                    0                       0                     0   \n",
       "99997                    0                       0                     0   \n",
       "99998                    0                       0                     0   \n",
       "99999                    0                       0                     0   \n",
       "\n",
       "       diabetes  chronic_obstructive_pulmonary_disorder  \\\n",
       "0             0                                       0   \n",
       "1             0                                       0   \n",
       "2             0                                       0   \n",
       "3             0                                       0   \n",
       "4             0                                       0   \n",
       "...         ...                                     ...   \n",
       "99995         0                                       0   \n",
       "99996         0                                       0   \n",
       "99997         0                                       0   \n",
       "99998         0                                       0   \n",
       "99999         0                                       0   \n",
       "\n",
       "       time_to_event_or_censoring  heart_attack_or_stroke_occurred  \n",
       "0                        0.229658                                0  \n",
       "1                        0.229658                                0  \n",
       "2                        0.229658                                0  \n",
       "3                       -2.612112                                1  \n",
       "4                        0.229658                                0  \n",
       "...                           ...                              ...  \n",
       "99995                    0.229658                                0  \n",
       "99996                    0.229658                                0  \n",
       "99997                    0.229658                                0  \n",
       "99998                    0.229658                                0  \n",
       "99999                    0.229658                                0  \n",
       "\n",
       "[100000 rows x 14 columns]"
      ]
     },
     "execution_count": 11,
     "metadata": {},
     "output_type": "execute_result"
    }
   ],
   "source": [
    "data"
   ]
  },
  {
   "cell_type": "markdown",
   "id": "97b1e938",
   "metadata": {},
   "source": [
    "##### Target Variable"
   ]
  },
  {
   "cell_type": "code",
   "execution_count": 12,
   "id": "f3c96b6a",
   "metadata": {},
   "outputs": [],
   "source": [
    "df_1 = data[:80000].copy()\n",
    "df_2 = data[80000:].copy()"
   ]
  },
  {
   "cell_type": "code",
   "execution_count": 13,
   "id": "85f9ab9b",
   "metadata": {},
   "outputs": [
    {
     "name": "stdout",
     "output_type": "stream",
     "text": [
      "(80000, 14)\n",
      "(20000, 14)\n"
     ]
    }
   ],
   "source": [
    "print(df_1.shape)\n",
    "print(df_2.shape)"
   ]
  },
  {
   "cell_type": "code",
   "execution_count": 14,
   "id": "89b015f8",
   "metadata": {},
   "outputs": [],
   "source": [
    "# X = data.drop(columns=['heart_attack_or_stroke_occurred'])\n",
    "# y = data['heart_attack_or_stroke_occurred']"
   ]
  },
  {
   "cell_type": "markdown",
   "id": "c20d2a11",
   "metadata": {},
   "source": [
    "##### Over Sample"
   ]
  },
  {
   "cell_type": "code",
   "execution_count": 15,
   "id": "e80427cf",
   "metadata": {},
   "outputs": [],
   "source": [
    "# Count class\n",
    "count_class_0, count_class_1 = df_1.heart_attack_or_stroke_occurred.value_counts()"
   ]
  },
  {
   "cell_type": "code",
   "execution_count": 16,
   "id": "c7af9c59",
   "metadata": {},
   "outputs": [],
   "source": [
    "# Divided by class\n",
    "data_0 = df_1[df_1[\"heart_attack_or_stroke_occurred\"]==0]\n",
    "data_1 = df_1[df_1['heart_attack_or_stroke_occurred']==1]"
   ]
  },
  {
   "cell_type": "code",
   "execution_count": 17,
   "id": "2a273850",
   "metadata": {},
   "outputs": [
    {
     "name": "stdout",
     "output_type": "stream",
     "text": [
      "74704\n",
      "5296\n"
     ]
    }
   ],
   "source": [
    "print(count_class_0)\n",
    "print(count_class_1)"
   ]
  },
  {
   "cell_type": "code",
   "execution_count": 18,
   "id": "1041adcb",
   "metadata": {},
   "outputs": [
    {
     "name": "stdout",
     "output_type": "stream",
     "text": [
      "(74704, 14)\n",
      "(5296, 14)\n"
     ]
    }
   ],
   "source": [
    "print(data_0.shape)\n",
    "print(data_1.shape)"
   ]
  },
  {
   "cell_type": "code",
   "execution_count": 19,
   "id": "6d638bed",
   "metadata": {},
   "outputs": [
    {
     "data": {
      "text/plain": [
       "(74704, 14)"
      ]
     },
     "execution_count": 19,
     "metadata": {},
     "output_type": "execute_result"
    }
   ],
   "source": [
    "df_class_1_over = data_1.sample(count_class_0, replace=True)\n",
    "df_class_1_over.shape"
   ]
  },
  {
   "cell_type": "code",
   "execution_count": 20,
   "id": "4ac85471",
   "metadata": {},
   "outputs": [
    {
     "data": {
      "text/plain": [
       "(149408, 14)"
      ]
     },
     "execution_count": 20,
     "metadata": {},
     "output_type": "execute_result"
    }
   ],
   "source": [
    "df_over = pd.concat([data_0, df_class_1_over], axis=0)\n",
    "df_over.shape"
   ]
  },
  {
   "cell_type": "code",
   "execution_count": 21,
   "id": "c3942a6c",
   "metadata": {},
   "outputs": [
    {
     "data": {
      "text/plain": [
       "heart_attack_or_stroke_occurred\n",
       "0    74704\n",
       "1    74704\n",
       "Name: count, dtype: int64"
      ]
     },
     "execution_count": 21,
     "metadata": {},
     "output_type": "execute_result"
    }
   ],
   "source": [
    "df_over.heart_attack_or_stroke_occurred.value_counts()"
   ]
  },
  {
   "cell_type": "markdown",
   "id": "a52b80c4",
   "metadata": {},
   "source": [
    "##### Spliting Data"
   ]
  },
  {
   "cell_type": "code",
   "execution_count": 23,
   "id": "4b8f3c96",
   "metadata": {},
   "outputs": [],
   "source": [
    "X_train = df_over.drop(columns=['heart_attack_or_stroke_occurred'])\n",
    "y_train = df_over['heart_attack_or_stroke_occurred']\n",
    "\n",
    "A = df_2.drop(columns=['heart_attack_or_stroke_occurred'])\n",
    "b = df_2['heart_attack_or_stroke_occurred']\n",
    "X_valid, X_test, y_valid, y_test = train_test_split(A, b, test_size = 0.5, random_state=42, stratify=b)"
   ]
  },
  {
   "cell_type": "code",
   "execution_count": 24,
   "id": "7cc59e63",
   "metadata": {},
   "outputs": [
    {
     "name": "stdout",
     "output_type": "stream",
     "text": [
      "(149408, 13)\n",
      "(10000, 13)\n",
      "(10000, 13)\n",
      "----------------------------------------\n",
      "heart_attack_or_stroke_occurred\n",
      "0    74704\n",
      "1    74704\n",
      "Name: count, dtype: int64\n",
      "heart_attack_or_stroke_occurred\n",
      "0    9342\n",
      "1     658\n",
      "Name: count, dtype: int64\n",
      "heart_attack_or_stroke_occurred\n",
      "0    9342\n",
      "1     658\n",
      "Name: count, dtype: int64\n"
     ]
    }
   ],
   "source": [
    "print(X_train.shape)\n",
    "print(X_valid.shape)\n",
    "print(X_test.shape)\n",
    "print(f'--'*20)\n",
    "print(y_train.value_counts())\n",
    "print(y_valid.value_counts())\n",
    "print(y_test.value_counts())"
   ]
  },
  {
   "cell_type": "code",
   "execution_count": null,
   "id": "42a8c9a9",
   "metadata": {},
   "outputs": [],
   "source": []
  },
  {
   "cell_type": "code",
   "execution_count": null,
   "id": "d039900d",
   "metadata": {},
   "outputs": [],
   "source": []
  },
  {
   "cell_type": "code",
   "execution_count": 25,
   "id": "7cc6683f",
   "metadata": {},
   "outputs": [],
   "source": [
    "def plot_confusion_matrix(cm, title):\n",
    "    plt.figure(figsize=(5,4))\n",
    "    sns.heatmap(cm, annot=True, fmt='d', cmap='Blues', cbar=False,\n",
    "               xticklabels=['No', 'Yes'],\n",
    "               yticklabels=['No', 'Yes'])\n",
    "    plt.xlabel('Predicted')\n",
    "    plt.ylabel('Actual')\n",
    "    plt.title(title)\n",
    "    plt.tight_layout()\n",
    "    plt.show()"
   ]
  },
  {
   "cell_type": "code",
   "execution_count": null,
   "id": "dedfb6a6",
   "metadata": {},
   "outputs": [],
   "source": []
  },
  {
   "cell_type": "markdown",
   "id": "6be37d79",
   "metadata": {},
   "source": [
    "### Logistic Regression"
   ]
  },
  {
   "cell_type": "code",
   "execution_count": 29,
   "id": "678cae8d",
   "metadata": {},
   "outputs": [],
   "source": [
    "# Initizlize Model\n",
    "log = LogisticRegression(max_iter=1000000)\n",
    "\n",
    "# Train Model\n",
    "log.fit(X_train,y_train)\n",
    "\n",
    "# Predict \n",
    "y_train_pred_log = log.predict(X_train)\n",
    "y_valid_pred_log = log.predict(X_valid)\n",
    "y_test_pred_log = log.predict(X_test)"
   ]
  },
  {
   "cell_type": "code",
   "execution_count": 30,
   "id": "0244c83f",
   "metadata": {},
   "outputs": [
    {
     "name": "stdout",
     "output_type": "stream",
     "text": [
      "======== Logistic Regression (Train set) ========\n",
      "              precision    recall  f1-score   support\n",
      "\n",
      "           0       0.92      1.00      0.95     74704\n",
      "           1       0.99      0.91      0.95     74704\n",
      "\n",
      "    accuracy                           0.95    149408\n",
      "   macro avg       0.96      0.95      0.95    149408\n",
      "weighted avg       0.96      0.95      0.95    149408\n",
      "\n",
      "Accuracy: 0.9515889376740201\n",
      "\n",
      "======== Logistic Regression (Valid set) ========\n",
      "              precision    recall  f1-score   support\n",
      "\n",
      "           0       0.99      1.00      0.99      9342\n",
      "           1       0.94      0.91      0.92       658\n",
      "\n",
      "    accuracy                           0.99     10000\n",
      "   macro avg       0.97      0.95      0.96     10000\n",
      "weighted avg       0.99      0.99      0.99     10000\n",
      "\n",
      "Accuracy: 0.9901\n",
      "\n",
      "======== Logistic Regression (Test set) ========\n",
      "              precision    recall  f1-score   support\n",
      "\n",
      "           0       0.99      0.99      0.99      9342\n",
      "           1       0.93      0.92      0.92       658\n",
      "\n",
      "    accuracy                           0.99     10000\n",
      "   macro avg       0.96      0.96      0.96     10000\n",
      "weighted avg       0.99      0.99      0.99     10000\n",
      "\n",
      "Accuracy: 0.99\n"
     ]
    }
   ],
   "source": [
    "#  Evaluation\n",
    "print(\"======== Logistic Regression (Train set) ========\")\n",
    "print(classification_report(y_train, y_train_pred_log))\n",
    "print(\"Accuracy:\", accuracy_score(y_train, y_train_pred_log))\n",
    "\n",
    "print(\"\\n======== Logistic Regression (Valid set) ========\")\n",
    "print(classification_report(y_valid, y_valid_pred_log))\n",
    "print(\"Accuracy:\", accuracy_score(y_valid, y_valid_pred_log))\n",
    "\n",
    "print(\"\\n======== Logistic Regression (Test set) ========\")\n",
    "print(classification_report(y_test, y_test_pred_log))\n",
    "print(\"Accuracy:\", accuracy_score(y_test, y_test_pred_log))"
   ]
  },
  {
   "cell_type": "code",
   "execution_count": 31,
   "id": "6f35c29d",
   "metadata": {},
   "outputs": [
    {
     "data": {
      "image/png": "[encoded data removed]",
      "text/plain": [
       "<Figure size 500x400 with 1 Axes>"
      ]
     },
     "metadata": {},
     "output_type": "display_data"
    },
    {
     "data": {
      "image/png": "[encoded data removed]",
      "text/plain": [
       "<Figure size 500x400 with 1 Axes>"
      ]
     },
     "metadata": {},
     "output_type": "display_data"
    },
    {
     "data": {
      "image/png": "[encoded data removed]",
      "text/plain": [
       "<Figure size 500x400 with 1 Axes>"
      ]
     },
     "metadata": {},
     "output_type": "display_data"
    }
   ],
   "source": [
    "# Calculate confusion matrices\n",
    "cm_log = confusion_matrix(y_train, y_train_pred_log)\n",
    "plot_confusion_matrix(cm_log, \"Logistic Regression (Train Set) - Confusion Matrix\")\n",
    "\n",
    "cm_log = confusion_matrix(y_valid, y_valid_pred_log)\n",
    "plot_confusion_matrix(cm_log, \"Logistic Regression (Valid Set) - Confusion Matrix\")\n",
    "\n",
    "cm_log = confusion_matrix(y_test, y_test_pred_log)\n",
    "plot_confusion_matrix(cm_log, \"Logistic Regression (Test Set) - Confusion Matrix\")\n"
   ]
  },
  {
   "cell_type": "markdown",
   "id": "c656a096",
   "metadata": {},
   "source": [
    "### Decision Tree"
   ]
  },
  {
   "cell_type": "code",
   "execution_count": 32,
   "id": "11f4ffcd",
   "metadata": {},
   "outputs": [],
   "source": [
    "# Initialize Model\n",
    "decision_tree = DecisionTreeClassifier(random_state=42)\n",
    "\n",
    "# Train Model\n",
    "decision_tree.fit(X_train, y_train)\n",
    "\n",
    "# Predict\n",
    "y_train_pred_tree = decision_tree.predict(X_train)\n",
    "y_valid_pred_tree = decision_tree.predict(X_valid)\n",
    "y_test_pred_tree = decision_tree.predict(X_test)"
   ]
  },
  {
   "cell_type": "code",
   "execution_count": 33,
   "id": "c9bf9e5d",
   "metadata": {},
   "outputs": [
    {
     "name": "stdout",
     "output_type": "stream",
     "text": [
      "\n",
      "======== Decision Tree (Train Set) ========\n",
      "              precision    recall  f1-score   support\n",
      "\n",
      "           0       1.00      1.00      1.00     74704\n",
      "           1       1.00      1.00      1.00     74704\n",
      "\n",
      "    accuracy                           1.00    149408\n",
      "   macro avg       1.00      1.00      1.00    149408\n",
      "weighted avg       1.00      1.00      1.00    149408\n",
      "\n",
      "Accuracy: 0.9997188905547226\n",
      "\n",
      "======== Decision Tree (Valid Set) ========\n",
      "              precision    recall  f1-score   support\n",
      "\n",
      "           0       0.99      0.99      0.99      9342\n",
      "           1       0.86      0.85      0.86       658\n",
      "\n",
      "    accuracy                           0.98     10000\n",
      "   macro avg       0.93      0.92      0.92     10000\n",
      "weighted avg       0.98      0.98      0.98     10000\n",
      "\n",
      "Accuracy: 0.9811\n",
      "\n",
      "======== Decision Tree (Test Set) ========\n",
      "              precision    recall  f1-score   support\n",
      "\n",
      "           0       0.99      0.99      0.99      9342\n",
      "           1       0.87      0.88      0.87       658\n",
      "\n",
      "    accuracy                           0.98     10000\n",
      "   macro avg       0.93      0.93      0.93     10000\n",
      "weighted avg       0.98      0.98      0.98     10000\n",
      "\n",
      "Accuracy: 0.9832\n"
     ]
    }
   ],
   "source": [
    "# Evaluation\n",
    "print(\"\\n======== Decision Tree (Train Set) ========\")\n",
    "print(classification_report(y_train, y_train_pred_tree))\n",
    "print(\"Accuracy:\", accuracy_score(y_train, y_train_pred_tree))\n",
    "\n",
    "print(\"\\n======== Decision Tree (Valid Set) ========\")\n",
    "print(classification_report(y_valid, y_valid_pred_tree))\n",
    "print(\"Accuracy:\", accuracy_score(y_valid, y_valid_pred_tree))\n",
    "\n",
    "print(\"\\n======== Decision Tree (Test Set) ========\")\n",
    "print(classification_report(y_test, y_test_pred_tree))\n",
    "print(\"Accuracy:\", accuracy_score(y_test, y_test_pred_tree))"
   ]
  },
  {
   "cell_type": "code",
   "execution_count": 34,
   "id": "b83d678a",
   "metadata": {},
   "outputs": [
    {
     "data": {
      "image/png": "[encoded data removed]",
      "text/plain": [
       "<Figure size 500x400 with 1 Axes>"
      ]
     },
     "metadata": {},
     "output_type": "display_data"
    },
    {
     "data": {
      "image/png": "[encoded data removed]",
      "text/plain": [
       "<Figure size 500x400 with 1 Axes>"
      ]
     },
     "metadata": {},
     "output_type": "display_data"
    },
    {
     "data": {
      "image/png": "[encoded data removed]",
      "text/plain": [
       "<Figure size 500x400 with 1 Axes>"
      ]
     },
     "metadata": {},
     "output_type": "display_data"
    }
   ],
   "source": [
    "# Calculate confusion matrices\n",
    "cm_tree = confusion_matrix(y_train, y_train_pred_tree)\n",
    "plot_confusion_matrix(cm_tree, \"Decision Tree (Train Set) - Confusion Matrix\")\n",
    "\n",
    "cm_tree = confusion_matrix(y_valid, y_valid_pred_tree)\n",
    "plot_confusion_matrix(cm_tree, \"Decision Tree (Valid Set) - Confusion Matrix\")\n",
    "\n",
    "cm_tree = confusion_matrix(y_test, y_test_pred_tree)\n",
    "plot_confusion_matrix(cm_tree, \"Decision Tree (Test Set) - Confusion Matrix\")\n"
   ]
  },
  {
   "cell_type": "markdown",
   "id": "6660b628",
   "metadata": {},
   "source": [
    "### Random Forest"
   ]
  },
  {
   "cell_type": "code",
   "execution_count": 35,
   "id": "3997865c",
   "metadata": {},
   "outputs": [],
   "source": [
    "# Initialize Model\n",
    "random_forest = RandomForestClassifier(random_state=42)\n",
    "\n",
    "# Train Model\n",
    "random_forest.fit(X_train, y_train)\n",
    "\n",
    "# Predict\n",
    "y_train_pred_forest = random_forest.predict(X_train)\n",
    "y_valid_pred_forest = random_forest.predict(X_valid)\n",
    "y_test_pred_forest = random_forest.predict(X_test)"
   ]
  },
  {
   "cell_type": "code",
   "execution_count": 36,
   "id": "c526592b",
   "metadata": {},
   "outputs": [
    {
     "name": "stdout",
     "output_type": "stream",
     "text": [
      "\n",
      "======== Random Forest (Train Set) ========\n",
      "              precision    recall  f1-score   support\n",
      "\n",
      "           0       1.00      1.00      1.00     74704\n",
      "           1       1.00      1.00      1.00     74704\n",
      "\n",
      "    accuracy                           1.00    149408\n",
      "   macro avg       1.00      1.00      1.00    149408\n",
      "weighted avg       1.00      1.00      1.00    149408\n",
      "\n",
      "Accuracy: 0.9997188905547226\n",
      "\n",
      "======== Random Forest (Valid Set) ========\n",
      "              precision    recall  f1-score   support\n",
      "\n",
      "           0       0.99      1.00      0.99      9342\n",
      "           1       0.95      0.91      0.93       658\n",
      "\n",
      "    accuracy                           0.99     10000\n",
      "   macro avg       0.97      0.95      0.96     10000\n",
      "weighted avg       0.99      0.99      0.99     10000\n",
      "\n",
      "Accuracy: 0.9905\n",
      "\n",
      "======== Random Forest (Test Set) ========\n",
      "              precision    recall  f1-score   support\n",
      "\n",
      "           0       0.99      1.00      1.00      9342\n",
      "           1       0.95      0.92      0.94       658\n",
      "\n",
      "    accuracy                           0.99     10000\n",
      "   macro avg       0.97      0.96      0.97     10000\n",
      "weighted avg       0.99      0.99      0.99     10000\n",
      "\n",
      "Accuracy: 0.9916\n"
     ]
    }
   ],
   "source": [
    "# Evaluation\n",
    "print(\"\\n======== Random Forest (Train Set) ========\")\n",
    "print(classification_report(y_train, y_train_pred_forest))\n",
    "print(\"Accuracy:\", accuracy_score(y_train, y_train_pred_forest))\n",
    "\n",
    "print(\"\\n======== Random Forest (Valid Set) ========\")\n",
    "print(classification_report(y_valid, y_valid_pred_forest))\n",
    "print(\"Accuracy:\", accuracy_score(y_valid, y_valid_pred_forest))\n",
    "\n",
    "print(\"\\n======== Random Forest (Test Set) ========\")\n",
    "print(classification_report(y_test, y_test_pred_forest))\n",
    "print(\"Accuracy:\", accuracy_score(y_test, y_test_pred_forest))"
   ]
  },
  {
   "cell_type": "code",
   "execution_count": 37,
   "id": "82aee1c0",
   "metadata": {},
   "outputs": [
    {
     "data": {
      "image/png": "[encoded data removed]",
      "text/plain": [
       "<Figure size 500x400 with 1 Axes>"
      ]
     },
     "metadata": {},
     "output_type": "display_data"
    },
    {
     "data": {
      "image/png": "[encoded data removed]",
      "text/plain": [
       "<Figure size 500x400 with 1 Axes>"
      ]
     },
     "metadata": {},
     "output_type": "display_data"
    },
    {
     "data": {
      "image/png": "[encoded data removed]",
      "text/plain": [
       "<Figure size 500x400 with 1 Axes>"
      ]
     },
     "metadata": {},
     "output_type": "display_data"
    }
   ],
   "source": [
    "# Calculate confusion matrices\n",
    "cm_forest = confusion_matrix(y_train, y_train_pred_forest)\n",
    "plot_confusion_matrix(cm_forest, \"Random Forest (Train Set) - Confusion Matrix\")\n",
    "\n",
    "cm_forest = confusion_matrix(y_valid, y_valid_pred_forest)\n",
    "plot_confusion_matrix(cm_forest, \"Random Forest (Valid Set) - Confusion Matrix\")\n",
    "\n",
    "cm_forest = confusion_matrix(y_test, y_test_pred_forest)\n",
    "plot_confusion_matrix(cm_forest, \"Random Forest (Test Set) - Confusion Matrix\")\n"
   ]
  },
  {
   "cell_type": "markdown",
   "id": "c7970eb4",
   "metadata": {},
   "source": [
    "### Neural Network"
   ]
  },
  {
   "cell_type": "code",
   "execution_count": 38,
   "id": "9555ee86",
   "metadata": {},
   "outputs": [
    {
     "name": "stdout",
     "output_type": "stream",
     "text": [
      "WARNING:tensorflow:From C:\\Python310\\lib\\site-packages\\keras\\src\\losses.py:2976: The name tf.losses.sparse_softmax_cross_entropy is deprecated. Please use tf.compat.v1.losses.sparse_softmax_cross_entropy instead.\n",
      "\n"
     ]
    }
   ],
   "source": [
    "from tensorflow import keras"
   ]
  },
  {
   "cell_type": "code",
   "execution_count": 39,
   "id": "77278e8b",
   "metadata": {},
   "outputs": [
    {
     "name": "stdout",
     "output_type": "stream",
     "text": [
      "WARNING:tensorflow:From C:\\Python310\\lib\\site-packages\\keras\\src\\backend.py:873: The name tf.get_default_graph is deprecated. Please use tf.compat.v1.get_default_graph instead.\n",
      "\n",
      "WARNING:tensorflow:From C:\\Python310\\lib\\site-packages\\keras\\src\\optimizers\\__init__.py:309: The name tf.train.Optimizer is deprecated. Please use tf.compat.v1.train.Optimizer instead.\n",
      "\n"
     ]
    }
   ],
   "source": [
    "# \n",
    "model = keras.Sequential([\n",
    "    keras.layers.Dense(500, input_shape=(13,), activation = 'relu'),\n",
    "    keras.layers.Dense(50, activation = 'relu'),\n",
    "    keras.layers.Dense(2, activation = 'sigmoid')\n",
    "])\n",
    "\n",
    "model.compile(\n",
    "    optimizer='adam',\n",
    "    loss = 'sparse_categorical_crossentropy',\n",
    "    metrics = ['accuracy']\n",
    ")"
   ]
  },
  {
   "cell_type": "code",
   "execution_count": 40,
   "id": "440d311e",
   "metadata": {},
   "outputs": [
    {
     "name": "stdout",
     "output_type": "stream",
     "text": [
      "Epoch 1/5\n",
      "WARNING:tensorflow:From C:\\Python310\\lib\\site-packages\\keras\\src\\utils\\tf_utils.py:492: The name tf.ragged.RaggedTensorValue is deprecated. Please use tf.compat.v1.ragged.RaggedTensorValue instead.\n",
      "\n",
      "WARNING:tensorflow:From C:\\Python310\\lib\\site-packages\\keras\\src\\engine\\base_layer_utils.py:384: The name tf.executing_eagerly_outside_functions is deprecated. Please use tf.compat.v1.executing_eagerly_outside_functions instead.\n",
      "\n",
      "4669/4669 [==============================] - 16s 3ms/step - loss: 0.1395 - accuracy: 0.9518\n",
      "Epoch 2/5\n",
      "4669/4669 [==============================] - 14s 3ms/step - loss: 0.1291 - accuracy: 0.9533\n",
      "Epoch 3/5\n",
      "4669/4669 [==============================] - 13s 3ms/step - loss: 0.1213 - accuracy: 0.9552\n",
      "Epoch 4/5\n",
      "4669/4669 [==============================] - 13s 3ms/step - loss: 0.1137 - accuracy: 0.9572\n",
      "Epoch 5/5\n",
      "4669/4669 [==============================] - 14s 3ms/step - loss: 0.1064 - accuracy: 0.9592\n"
     ]
    },
    {
     "data": {
      "text/plain": [
       "<keras.src.callbacks.History at 0x155ce361e40>"
      ]
     },
     "execution_count": 40,
     "metadata": {},
     "output_type": "execute_result"
    }
   ],
   "source": [
    "model.fit(X_train, y_train, epochs=5)"
   ]
  },
  {
   "cell_type": "code",
   "execution_count": 41,
   "id": "3f68d67c",
   "metadata": {},
   "outputs": [
    {
     "name": "stdout",
     "output_type": "stream",
     "text": [
      "313/313 [==============================] - 1s 2ms/step - loss: 0.0980 - accuracy: 0.9801\n"
     ]
    },
    {
     "data": {
      "text/plain": [
       "[0.09800419956445694, 0.9800999760627747]"
      ]
     },
     "execution_count": 41,
     "metadata": {},
     "output_type": "execute_result"
    }
   ],
   "source": [
    "model.evaluate(X_valid, y_valid)"
   ]
  },
  {
   "cell_type": "code",
   "execution_count": 42,
   "id": "b8a91bef",
   "metadata": {},
   "outputs": [
    {
     "name": "stdout",
     "output_type": "stream",
     "text": [
      "4669/4669 [==============================] - 11s 2ms/step\n",
      "313/313 [==============================] - 1s 3ms/step\n",
      "313/313 [==============================] - 1s 2ms/step\n"
     ]
    }
   ],
   "source": [
    "y_train_pred_nn = model.predict(X_train)\n",
    "y_train_pred_nn = [np.argmax(i) for i in y_train_pred_nn]\n",
    "y_valid_pred_nn = model.predict(X_valid)\n",
    "y_valid_pred_nn = [np.argmax(i) for i in y_valid_pred_nn]\n",
    "y_test_pred_nn = model.predict(X_test)\n",
    "y_test_pred_nn = [np.argmax(i) for i in y_test_pred_nn]"
   ]
  },
  {
   "cell_type": "code",
   "execution_count": 43,
   "id": "715c9cbc",
   "metadata": {},
   "outputs": [
    {
     "name": "stdout",
     "output_type": "stream",
     "text": [
      "\n",
      "======== Neural Network (Train Set) ========\n",
      "              precision    recall  f1-score   support\n",
      "\n",
      "           0       0.94      0.99      0.96     74704\n",
      "           1       0.99      0.93      0.96     74704\n",
      "\n",
      "    accuracy                           0.96    149408\n",
      "   macro avg       0.96      0.96      0.96    149408\n",
      "weighted avg       0.96      0.96      0.96    149408\n",
      "\n",
      "Accuracy: 0.9608722424502034\n",
      "\n",
      "======== Neural Network (Valid Set) ========\n",
      "              precision    recall  f1-score   support\n",
      "\n",
      "           0       0.99      0.99      0.99      9342\n",
      "           1       0.81      0.91      0.86       658\n",
      "\n",
      "    accuracy                           0.98     10000\n",
      "   macro avg       0.90      0.95      0.92     10000\n",
      "weighted avg       0.98      0.98      0.98     10000\n",
      "\n",
      "Accuracy: 0.9801\n",
      "\n",
      "======== Neural Network (Test Set) ========\n",
      "              precision    recall  f1-score   support\n",
      "\n",
      "           0       0.99      0.99      0.99      9342\n",
      "           1       0.83      0.92      0.88       658\n",
      "\n",
      "    accuracy                           0.98     10000\n",
      "   macro avg       0.91      0.96      0.93     10000\n",
      "weighted avg       0.98      0.98      0.98     10000\n",
      "\n",
      "Accuracy: 0.9827\n"
     ]
    }
   ],
   "source": [
    "# Evaluation\n",
    "print(\"\\n======== Neural Network (Train Set) ========\")\n",
    "print(classification_report(y_train, y_train_pred_nn))\n",
    "print(\"Accuracy:\", accuracy_score(y_train, y_train_pred_nn))\n",
    "\n",
    "print(\"\\n======== Neural Network (Valid Set) ========\")\n",
    "print(classification_report(y_valid, y_valid_pred_nn))\n",
    "print(\"Accuracy:\", accuracy_score(y_valid, y_valid_pred_nn))\n",
    "\n",
    "print(\"\\n======== Neural Network (Test Set) ========\")\n",
    "print(classification_report(y_test, y_test_pred_nn))\n",
    "print(\"Accuracy:\", accuracy_score(y_test, y_test_pred_nn))"
   ]
  },
  {
   "cell_type": "code",
   "execution_count": 44,
   "id": "62b94d7a",
   "metadata": {},
   "outputs": [
    {
     "data": {
      "image/png": "[encoded data removed]",
      "text/plain": [
       "<Figure size 500x400 with 1 Axes>"
      ]
     },
     "metadata": {},
     "output_type": "display_data"
    },
    {
     "data": {
      "image/png": "[encoded data removed]",
      "text/plain": [
       "<Figure size 500x400 with 1 Axes>"
      ]
     },
     "metadata": {},
     "output_type": "display_data"
    },
    {
     "data": {
      "image/png": "[encoded data removed]",
      "text/plain": [
       "<Figure size 500x400 with 1 Axes>"
      ]
     },
     "metadata": {},
     "output_type": "display_data"
    }
   ],
   "source": [
    "# Calculate confusion matrices\n",
    "cm_nn = confusion_matrix(y_train, y_train_pred_nn)\n",
    "plot_confusion_matrix(cm_nn, \"Neural Network (Train Set) - Confusion Matrix\")\n",
    "\n",
    "cm_nn = confusion_matrix(y_valid, y_valid_pred_nn)\n",
    "plot_confusion_matrix(cm_nn, \"Neural Network (Valid Set) - Confusion Matrix\")\n",
    "\n",
    "cm_nn = confusion_matrix(y_test, y_test_pred_nn)\n",
    "plot_confusion_matrix(cm_nn, \"Neural Network (Test Set) - Confusion Matrix\")\n"
   ]
  },
  {
   "cell_type": "code",
   "execution_count": null,
   "id": "21db50c1",
   "metadata": {},
   "outputs": [],
   "source": []
  },
  {
   "cell_type": "code",
   "execution_count": 45,
   "id": "7c7099fc",
   "metadata": {},
   "outputs": [
    {
     "name": "stdout",
     "output_type": "stream",
     "text": [
      "🔍 Installed Package Versions:\n",
      "\n",
      "numpy: 1.26.4\n",
      "pandas: 2.2.3\n",
      "matplotlib: 3.10.3\n",
      "scikit-learn: 1.4.0\n",
      "seaborn: 0.13.2\n",
      "imblearn: 0.13.0\n"
     ]
    }
   ],
   "source": [
    "import numpy\n",
    "import pandas\n",
    "import matplotlib\n",
    "import sklearn\n",
    "import seaborn\n",
    "import imblearn\n",
    "\n",
    "print(\"🔍 Installed Package Versions:\\n\")\n",
    "print(f\"numpy: {numpy.__version__}\")\n",
    "print(f\"pandas: {pandas.__version__}\")\n",
    "print(f\"matplotlib: {matplotlib.__version__}\")\n",
    "print(f\"scikit-learn: {sklearn.__version__}\")\n",
    "print(f\"seaborn: {seaborn.__version__}\")\n",
    "print(f\"imblearn: {imblearn.__version__}\")\n"
   ]
  },
  {
   "cell_type": "code",
   "execution_count": 47,
   "id": "e4eb2030",
   "metadata": {},
   "outputs": [
    {
     "name": "stdout",
     "output_type": "stream",
     "text": [
      "✅ requirements.txt has been created.\n"
     ]
    }
   ],
   "source": [
    "with open(\"requirements.txt\", \"w\") as f:\n",
    "    f.write(f\"numpy=={numpy.__version__}\\n\")\n",
    "    f.write(f\"pandas=={pandas.__version__}\\n\")\n",
    "    f.write(f\"matplotlib=={matplotlib.__version__}\\n\")\n",
    "    f.write(f\"scikit-learn=={sklearn.__version__}\\n\")\n",
    "    f.write(f\"seaborn=={seaborn.__version__}\\n\")\n",
    "    f.write(f\"imblearn=={imblearn.__version__}\\n\")\n",
    "\n",
    "print(\"✅ requirements.txt has been created.\")\n"
   ]
  },
  {
   "cell_type": "code",
   "execution_count": 49,
   "id": "68f42906",
   "metadata": {},
   "outputs": [
    {
     "name": "stdout",
     "output_type": "stream",
     "text": [
      "✅ requirements.txt saved successfully in UTF-8 format.\n"
     ]
    }
   ],
   "source": [
    "import numpy\n",
    "import pandas\n",
    "import matplotlib\n",
    "import sklearn\n",
    "import seaborn\n",
    "import imblearn\n",
    "\n",
    "# Save clean text with explicit UTF-8 encoding\n",
    "with open(\"requirements.txt\", \"w\", encoding=\"utf-8\") as f:\n",
    "    f.write(f\"numpy=={numpy.__version__}\\n\")\n",
    "    f.write(f\"pandas=={pandas.__version__}\\n\")\n",
    "    f.write(f\"matplotlib=={matplotlib.__version__}\\n\")\n",
    "    f.write(f\"scikit-learn=={sklearn.__version__}\\n\")\n",
    "    f.write(f\"seaborn=={seaborn.__version__}\\n\")\n",
    "    f.write(f\"imblearn=={imblearn.__version__}\\n\")\n",
    "\n",
    "print(\"✅ requirements.txt saved successfully in UTF-8 format.\")\n"
   ]
  },
  {
   "cell_type": "code",
   "execution_count": 50,
   "id": "cb204a64",
   "metadata": {},
   "outputs": [
    {
     "name": "stdout",
     "output_type": "stream",
     "text": [
      "numpy==1.26.4\n",
      "pandas==2.2.3\n",
      "matplotlib==3.10.3\n",
      "scikit-learn==1.4.0\n",
      "seaborn==0.13.2\n",
      "imblearn==0.13.0\n",
      "\n"
     ]
    }
   ],
   "source": [
    "# Display content to verify\n",
    "with open(\"requirements.txt\", \"r\", encoding=\"utf-8\") as f:\n",
    "    print(f.read())\n"
   ]
  },
  {
   "cell_type": "code",
   "execution_count": null,
   "id": "ba36de4f",
   "metadata": {},
   "outputs": [],
   "source": []
  }
 ],
 "metadata": {
  "kernelspec": {
   "display_name": "Python 3 (ipykernel)",
   "language": "python",
   "name": "python3"
  },
  "language_info": {
   "codemirror_mode": {
    "name": "ipython",
    "version": 3
   },
   "file_extension": ".py",
   "mimetype": "text/x-python",
   "name": "python",
   "nbconvert_exporter": "python",
   "pygments_lexer": "ipython3",
   "version": "3.10.6"
  }
 },
 "nbformat": 4,
 "nbformat_minor": 5
}
